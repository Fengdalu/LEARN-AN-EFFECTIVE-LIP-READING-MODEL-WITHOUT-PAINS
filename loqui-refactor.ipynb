{
 "cells": [
  {
   "cell_type": "code",
   "execution_count": null,
   "metadata": {
    "collapsed": true
   },
   "outputs": [],
   "source": [
    "!git clone https://github.com/aviadshimoni/learn-an-effective-lip-reading-model-without-pains.git loqui-refactor\n",
    "% cd loqui-refactor\n",
    "!mkdir /tf/loqui-refactor/lrw_roi_npy_gray_pkl_jpeg && cp -r /tf/rois/lrw_roi_npy_gray_pkl_jpeg/ /tf/loqui-refactor/lrw_roi_npy_gray_pkl_jpeg"
   ]
  },
  {
   "cell_type": "code",
   "execution_count": null,
   "outputs": [],
   "source": [
    "!python main_visual.py \\\n",
    "    --gpus='0'  \\\n",
    "    --lr=3e-4 \\\n",
    "    --batch_size=32 \\\n",
    "    --num_workers=1 \\\n",
    "    --max_epoch=120 \\\n",
    "    --test=False \\\n",
    "    --save_prefix='checkpoints/lrw-baseline/' \\\n",
    "    --n_class=8 \\\n",
    "    --dataset='lrw' \\\n",
    "    --border=False \\\n",
    "    --mixup=False \\\n",
    "    --label_smooth=False \\\n",
    "    --se=False"
   ],
   "metadata": {
    "collapsed": false
   }
  }
 ],
 "metadata": {
  "kernelspec": {
   "display_name": "Python 3",
   "language": "python",
   "name": "python3"
  },
  "language_info": {
   "codemirror_mode": {
    "name": "ipython",
    "version": 2
   },
   "file_extension": ".py",
   "mimetype": "text/x-python",
   "name": "python",
   "nbconvert_exporter": "python",
   "pygments_lexer": "ipython2",
   "version": "2.7.6"
  }
 },
 "nbformat": 4,
 "nbformat_minor": 0
}
